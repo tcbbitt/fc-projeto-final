{
 "cells": [
  {
   "cell_type": "code",
   "execution_count": null,
   "id": "0e626621",
   "metadata": {},
   "outputs": [],
   "source": [
    "import numpy as np\n",
    "import autorootcwd  \n",
    "import pandas as pd\n",
    "import random\n",
    "import os\n",
    "import torch\n",
    "from src.datasets.ottawa2023 import Ottawa2023Dataset"
   ]
  },
  {
   "cell_type": "code",
   "execution_count": 8,
   "id": "c7da77eb",
   "metadata": {},
   "outputs": [],
   "source": [
    "dataset = Ottawa2023Dataset(faulty_type = 'inner', normalize = False, sample_length = 1, random_sample = False, random_gain = False)"
   ]
  },
  {
   "cell_type": "code",
   "execution_count": 13,
   "id": "836be032",
   "metadata": {},
   "outputs": [
    {
     "name": "stdout",
     "output_type": "stream",
     "text": [
      "600\n",
      "Waveform: tensor([-7.6969, -7.6325, -7.6647,  ..., 15.8651, 16.5742, 16.7998])\n",
      "Waveform shape : torch.Size([42000])\n",
      "Label: tensor(0.)\n"
     ]
    }
   ],
   "source": [
    "print(dataset.__len__())\n",
    "waveform, label = dataset[0]\n",
    "print(\"Waveform:\", waveform)\n",
    "print(\"Waveform shape :\", waveform.shape)\n",
    "print(\"Label:\", label)"
   ]
  }
 ],
 "metadata": {
  "kernelspec": {
   "display_name": ".venv",
   "language": "python",
   "name": "python3"
  },
  "language_info": {
   "codemirror_mode": {
    "name": "ipython",
    "version": 3
   },
   "file_extension": ".py",
   "mimetype": "text/x-python",
   "name": "python",
   "nbconvert_exporter": "python",
   "pygments_lexer": "ipython3",
   "version": "3.12.8"
  }
 },
 "nbformat": 4,
 "nbformat_minor": 5
}
