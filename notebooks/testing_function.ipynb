{
 "cells": [
  {
   "cell_type": "code",
   "execution_count": 8,
   "id": "1462349c",
   "metadata": {},
   "outputs": [],
   "source": [
    "import numpy as np\n",
    "import autorootcwd  \n",
    "import pandas as pd\n",
    "import random\n",
    "import os\n",
    "import torch\n",
    "from src.datasets.ottawa2023 import Ottawa2023Dataset\n",
    "from src.datasets.splits import get_ottawa2023_splits\n",
    "from src.datasets.transforms import ToTensor, FFT, Normalize, RandomGain\n",
    "from src.datasets.dataset_wrapper import multiplydataset\n",
    "from src.datasets.dataloaders import get_dataloaders\n",
    "from torchvision import transforms"
   ]
  },
  {
   "cell_type": "code",
   "execution_count": 3,
   "id": "c8b7cd73",
   "metadata": {},
   "outputs": [],
   "source": [
    "full_df = pd.read_pickle('/data/bearing_datasets/ottawa/processed/full_dataset.bz2')"
   ]
  },
  {
   "cell_type": "code",
   "execution_count": 4,
   "id": "87ee84b5",
   "metadata": {},
   "outputs": [
    {
     "data": {
      "text/plain": [
       "((36, 18), (12, 18), (12, 18))"
      ]
     },
     "execution_count": 4,
     "metadata": {},
     "output_type": "execute_result"
    }
   ],
   "source": [
    "train_df, val_df, test_df = get_ottawa2023_splits(full_df, train_size=0.6, random_state=42)\n",
    "train_df.shape, val_df.shape, test_df.shape"
   ]
  },
  {
   "cell_type": "code",
   "execution_count": 5,
   "id": "050a7d5d",
   "metadata": {},
   "outputs": [],
   "source": [
    "train_dataset = Ottawa2023Dataset(data_df=train_df, faulty_type='inner', sample_length=1, random_sample=True, seed=42,\n",
    "                                  transform=transforms.Compose([ToTensor()]))\n",
    "val_dataset = Ottawa2023Dataset(data_df=val_df, faulty_type='inner', sample_length=1, random_sample=False, seed=42,\n",
    "                                transform=transforms.Compose([ToTensor()]))\n",
    "test_dataset = Ottawa2023Dataset(data_df=test_df, faulty_type='inner', sample_length=1, random_sample=False, seed=42,\n",
    "                                 transform=transforms.Compose([ToTensor()]))"
   ]
  },
  {
   "cell_type": "code",
   "execution_count": 6,
   "id": "d6a145b6",
   "metadata": {},
   "outputs": [],
   "source": [
    "train_dataset = multiplydataset(train_dataset, 10)"
   ]
  },
  {
   "cell_type": "code",
   "execution_count": 9,
   "id": "f64b02da",
   "metadata": {},
   "outputs": [],
   "source": [
    "train_loader, val_loader, test_loader = get_dataloaders(train_dataset, val_dataset, test_dataset,\n",
    "                                                      batch_size=32, num_workers=4)"
   ]
  },
  {
   "cell_type": "code",
   "execution_count": null,
   "id": "19ff8dda",
   "metadata": {},
   "outputs": [],
   "source": []
  }
 ],
 "metadata": {
  "kernelspec": {
   "display_name": ".venv",
   "language": "python",
   "name": "python3"
  },
  "language_info": {
   "codemirror_mode": {
    "name": "ipython",
    "version": 3
   },
   "file_extension": ".py",
   "mimetype": "text/x-python",
   "name": "python",
   "nbconvert_exporter": "python",
   "pygments_lexer": "ipython3",
   "version": "3.12.8"
  }
 },
 "nbformat": 4,
 "nbformat_minor": 5
}
