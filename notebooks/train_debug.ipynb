{
 "cells": [
  {
   "cell_type": "code",
   "execution_count": 1,
   "id": "8b0a5f47",
   "metadata": {},
   "outputs": [],
   "source": [
    "import autorootcwd\n",
    "import torch\n",
    "import torch.nn as nn\n",
    "from torchvision import transforms\n",
    "import pandas as pd\n",
    "import numpy as np\n",
    "from torch.utils.data import DataLoader\n",
    "from src.datasets.splits import get_ottawa2023_splits\n",
    "from src.datasets.ottawa2023 import Ottawa2023Dataset\n",
    "from src.datasets.dataset_wrapper import multiplydataset\n",
    "from src.datasets.transforms import ToTensor, Normalize, FFT, RandomGain\n",
    "from src.datasets.dataloaders import get_dataloaders\n",
    "from src.models.dcnn import Net\n",
    "from src.trainer.train import train\n",
    "from src.trainer.test import test\n",
    "import wandb\n"
   ]
  },
  {
   "cell_type": "code",
   "execution_count": 2,
   "id": "ed48a367",
   "metadata": {},
   "outputs": [],
   "source": [
    "# --- Configs ---\n",
    "SEED = 42\n",
    "BATCH_SIZE = 64\n",
    "EPOCHS = 20\n",
    "FAULT_TYPE = \"cage\"\n",
    "SAMPLE_LENGTH = 1.0 #in seconds\n",
    "REPEATS = 10\n",
    "LEARNING_RATE = 1e-3\n",
    "DEVICE = torch.device(\"cuda\" if torch.cuda.is_available() else \"cpu\")"
   ]
  },
  {
   "cell_type": "code",
   "execution_count": 3,
   "id": "20d3cd98",
   "metadata": {},
   "outputs": [
    {
     "name": "stderr",
     "output_type": "stream",
     "text": [
      "\u001b[34m\u001b[1mwandb\u001b[0m: Currently logged in as: \u001b[33mtth-bitt\u001b[0m (\u001b[33mtth-bitt-universidade-federal-de-santa-catarina\u001b[0m) to \u001b[32mhttps://api.wandb.ai\u001b[0m. Use \u001b[1m`wandb login --relogin`\u001b[0m to force relogin\n"
     ]
    },
    {
     "data": {
      "text/plain": [
       "True"
      ]
     },
     "execution_count": 3,
     "metadata": {},
     "output_type": "execute_result"
    }
   ],
   "source": [
    "wandb.login()"
   ]
  },
  {
   "cell_type": "code",
   "execution_count": 4,
   "id": "1de78468",
   "metadata": {},
   "outputs": [
    {
     "data": {
      "text/html": [
       "Tracking run with wandb version 0.20.1"
      ],
      "text/plain": [
       "<IPython.core.display.HTML object>"
      ]
     },
     "metadata": {},
     "output_type": "display_data"
    },
    {
     "data": {
      "text/html": [
       "Run data is saved locally in <code>/home/thiago-bittencourt/fc-projeto-final/wandb/run-20250623_080309-e8db8rx1</code>"
      ],
      "text/plain": [
       "<IPython.core.display.HTML object>"
      ]
     },
     "metadata": {},
     "output_type": "display_data"
    },
    {
     "data": {
      "text/html": [
       "Syncing run <strong><a href='https://wandb.ai/tth-bitt-universidade-federal-de-santa-catarina/ottawa2023-fault-detection/runs/e8db8rx1' target=\"_blank\">DCNN08_cage_bs64_lr0.001_20epochs</a></strong> to <a href='https://wandb.ai/tth-bitt-universidade-federal-de-santa-catarina/ottawa2023-fault-detection' target=\"_blank\">Weights & Biases</a> (<a href='https://wandb.me/developer-guide' target=\"_blank\">docs</a>)<br>"
      ],
      "text/plain": [
       "<IPython.core.display.HTML object>"
      ]
     },
     "metadata": {},
     "output_type": "display_data"
    },
    {
     "data": {
      "text/html": [
       " View project at <a href='https://wandb.ai/tth-bitt-universidade-federal-de-santa-catarina/ottawa2023-fault-detection' target=\"_blank\">https://wandb.ai/tth-bitt-universidade-federal-de-santa-catarina/ottawa2023-fault-detection</a>"
      ],
      "text/plain": [
       "<IPython.core.display.HTML object>"
      ]
     },
     "metadata": {},
     "output_type": "display_data"
    },
    {
     "data": {
      "text/html": [
       " View run at <a href='https://wandb.ai/tth-bitt-universidade-federal-de-santa-catarina/ottawa2023-fault-detection/runs/e8db8rx1' target=\"_blank\">https://wandb.ai/tth-bitt-universidade-federal-de-santa-catarina/ottawa2023-fault-detection/runs/e8db8rx1</a>"
      ],
      "text/plain": [
       "<IPython.core.display.HTML object>"
      ]
     },
     "metadata": {},
     "output_type": "display_data"
    },
    {
     "data": {
      "text/html": [
       "<button onClick=\"this.nextSibling.style.display='block';this.style.display='none';\">Display W&B run</button><iframe src='https://wandb.ai/tth-bitt-universidade-federal-de-santa-catarina/ottawa2023-fault-detection/runs/e8db8rx1?jupyter=true' style='border:none;width:100%;height:420px;display:none;'></iframe>"
      ],
      "text/plain": [
       "<wandb.sdk.wandb_run.Run at 0x730621ecfe90>"
      ]
     },
     "execution_count": 4,
     "metadata": {},
     "output_type": "execute_result"
    }
   ],
   "source": [
    "wandb.init(project=\"ottawa2023-fault-detection\", \n",
    "           name=f\"DCNN08_{FAULT_TYPE}_bs{BATCH_SIZE}_lr{LEARNING_RATE}_{EPOCHS}epochs\",\n",
    "           config={\n",
    "    \"batch_size\": BATCH_SIZE,\n",
    "    \"epochs\": EPOCHS,\n",
    "    \"learning_rate\": LEARNING_RATE,\n",
    "    \"model\": \"DCNN08\",\n",
    "    \"fault_type\": FAULT_TYPE,\n",
    "})"
   ]
  },
  {
   "cell_type": "code",
   "execution_count": 5,
   "id": "b2506e4d",
   "metadata": {},
   "outputs": [],
   "source": [
    "full_df = pd.read_pickle('/data/bearing_datasets/ottawa/processed/full_dataset.bz2')"
   ]
  },
  {
   "cell_type": "code",
   "execution_count": 6,
   "id": "408d6c6b",
   "metadata": {},
   "outputs": [],
   "source": [
    "#split\n",
    "train_df, val_df, test_df = get_ottawa2023_splits(full_df)"
   ]
  },
  {
   "cell_type": "code",
   "execution_count": 7,
   "id": "e8195502",
   "metadata": {},
   "outputs": [],
   "source": [
    "# --- Define transforms ---\n",
    "train_transform = transforms.Compose([\n",
    "    ToTensor()])\n",
    "\n",
    "val_test_transform = transforms.Compose([\n",
    "    ToTensor()])"
   ]
  },
  {
   "cell_type": "code",
   "execution_count": 8,
   "id": "4a5850e1",
   "metadata": {},
   "outputs": [],
   "source": [
    "# --- Create datasets ---\n",
    "train_dataset = Ottawa2023Dataset(train_df, faulty_type=FAULT_TYPE, sample_length=SAMPLE_LENGTH, transform=train_transform, random_sample=True)\n",
    "val_dataset   = Ottawa2023Dataset(val_df, faulty_type=FAULT_TYPE, sample_length=SAMPLE_LENGTH, transform=val_test_transform, random_sample=False)\n",
    "test_dataset  = Ottawa2023Dataset(test_df, faulty_type=FAULT_TYPE, sample_length=SAMPLE_LENGTH, transform=val_test_transform, random_sample=False)"
   ]
  },
  {
   "cell_type": "code",
   "execution_count": 9,
   "id": "5b31ecf9",
   "metadata": {},
   "outputs": [],
   "source": [
    "# --- Multiply training set ---\n",
    "train_dataset = multiplydataset(train_dataset, repeats=REPEATS)"
   ]
  },
  {
   "cell_type": "code",
   "execution_count": 10,
   "id": "ed682574",
   "metadata": {},
   "outputs": [],
   "source": [
    "# --- Create dataloaders ---\n",
    "train_loader, val_loader, test_loader = get_dataloaders(train_dataset, val_dataset, test_dataset, batch_size=BATCH_SIZE, num_workers=4)"
   ]
  },
  {
   "cell_type": "code",
   "execution_count": 11,
   "id": "605e041f",
   "metadata": {},
   "outputs": [
    {
     "name": "stdout",
     "output_type": "stream",
     "text": [
      "Using device: cuda\n"
     ]
    }
   ],
   "source": [
    "# --- check device ---\n",
    "print(f\"Using device: {DEVICE}\")"
   ]
  },
  {
   "cell_type": "code",
   "execution_count": 12,
   "id": "2a8a98f3",
   "metadata": {},
   "outputs": [],
   "source": [
    "# --- Model, Loss, Optimizer ---\n",
    "model = Net(\"DCNN08\", in_channels=1, n_class=1).to(DEVICE)\n",
    "loss_BCE = nn.BCEWithLogitsLoss()\n",
    "optimizer = torch.optim.Adam(model.parameters(), lr=LEARNING_RATE)"
   ]
  },
  {
   "cell_type": "code",
   "execution_count": 13,
   "id": "3872f147",
   "metadata": {},
   "outputs": [
    {
     "name": "stdout",
     "output_type": "stream",
     "text": [
      "Epoch 1/20, Loss: 0.3300, AUROC: 0.8710\n",
      "[val] Epoch 0 - Loss: 0.2169, val_AUROC: 0.9991\n",
      "[test] Epoch 0 - Loss: 0.1336, test_AUROC: 1.0000\n",
      "Epoch 2/20, Loss: 0.1811, AUROC: 0.9654\n",
      "[val] Epoch 1 - Loss: 0.2184, val_AUROC: 0.9966\n",
      "[test] Epoch 1 - Loss: 0.0727, test_AUROC: 1.0000\n",
      "Epoch 3/20, Loss: 0.1576, AUROC: 0.9688\n",
      "[val] Epoch 2 - Loss: 0.0918, val_AUROC: 1.0000\n",
      "[test] Epoch 2 - Loss: 0.0214, test_AUROC: 1.0000\n",
      "Epoch 4/20, Loss: 0.1133, AUROC: 0.9851\n",
      "[val] Epoch 3 - Loss: 0.3312, val_AUROC: 0.9841\n",
      "[test] Epoch 3 - Loss: 0.3698, test_AUROC: 0.7864\n",
      "Epoch 5/20, Loss: 0.0932, AUROC: 0.9904\n",
      "[val] Epoch 4 - Loss: 0.0624, val_AUROC: 1.0000\n",
      "[test] Epoch 4 - Loss: 0.0596, test_AUROC: 1.0000\n",
      "Epoch 6/20, Loss: 0.0819, AUROC: 0.9900\n",
      "[val] Epoch 5 - Loss: 0.0923, val_AUROC: 1.0000\n",
      "[test] Epoch 5 - Loss: 0.0707, test_AUROC: 1.0000\n",
      "Epoch 7/20, Loss: 0.0581, AUROC: 0.9972\n",
      "[val] Epoch 6 - Loss: 0.0441, val_AUROC: 1.0000\n",
      "[test] Epoch 6 - Loss: 0.0521, test_AUROC: 1.0000\n",
      "Epoch 8/20, Loss: 0.0493, AUROC: 0.9977\n",
      "[val] Epoch 7 - Loss: 0.1115, val_AUROC: 0.9994\n",
      "[test] Epoch 7 - Loss: 0.0209, test_AUROC: 1.0000\n",
      "Epoch 9/20, Loss: 0.0413, AUROC: 0.9980\n",
      "[val] Epoch 8 - Loss: 0.0605, val_AUROC: 1.0000\n",
      "[test] Epoch 8 - Loss: 0.0205, test_AUROC: 1.0000\n",
      "Epoch 10/20, Loss: 0.0297, AUROC: 0.9995\n",
      "[val] Epoch 9 - Loss: 0.1218, val_AUROC: 0.9891\n",
      "[test] Epoch 9 - Loss: 0.0405, test_AUROC: 1.0000\n",
      "Epoch 11/20, Loss: 0.0392, AUROC: 0.9984\n",
      "[val] Epoch 10 - Loss: 0.0538, val_AUROC: 1.0000\n",
      "[test] Epoch 10 - Loss: 0.0555, test_AUROC: 1.0000\n",
      "Epoch 12/20, Loss: 0.0189, AUROC: 0.9998\n",
      "[val] Epoch 11 - Loss: 0.0821, val_AUROC: 1.0000\n",
      "[test] Epoch 11 - Loss: 0.0191, test_AUROC: 1.0000\n",
      "Epoch 13/20, Loss: 0.0175, AUROC: 0.9999\n",
      "[val] Epoch 12 - Loss: 0.0668, val_AUROC: 1.0000\n",
      "[test] Epoch 12 - Loss: 0.1679, test_AUROC: 0.9627\n",
      "Epoch 14/20, Loss: 0.0131, AUROC: 0.9999\n",
      "[val] Epoch 13 - Loss: 0.0371, val_AUROC: 1.0000\n",
      "[test] Epoch 13 - Loss: 0.1524, test_AUROC: 1.0000\n",
      "Epoch 15/20, Loss: 0.0096, AUROC: 1.0000\n",
      "[val] Epoch 14 - Loss: 0.0412, val_AUROC: 1.0000\n",
      "[test] Epoch 14 - Loss: 0.1449, test_AUROC: 1.0000\n",
      "Epoch 16/20, Loss: 0.0128, AUROC: 1.0000\n",
      "[val] Epoch 15 - Loss: 0.2897, val_AUROC: 0.9663\n",
      "[test] Epoch 15 - Loss: 0.1157, test_AUROC: 1.0000\n",
      "Epoch 17/20, Loss: 0.0294, AUROC: 0.9991\n",
      "[val] Epoch 16 - Loss: 1.2462, val_AUROC: 0.8325\n",
      "[test] Epoch 16 - Loss: 0.3111, test_AUROC: 1.0000\n",
      "Epoch 18/20, Loss: 0.0219, AUROC: 0.9996\n",
      "[val] Epoch 17 - Loss: 0.0259, val_AUROC: 1.0000\n",
      "[test] Epoch 17 - Loss: 0.3275, test_AUROC: 1.0000\n",
      "Epoch 19/20, Loss: 0.0128, AUROC: 0.9999\n",
      "[val] Epoch 18 - Loss: 0.0441, val_AUROC: 1.0000\n",
      "[test] Epoch 18 - Loss: 0.1112, test_AUROC: 1.0000\n",
      "Epoch 20/20, Loss: 0.0094, AUROC: 0.9998\n",
      "[val] Epoch 19 - Loss: 0.0233, val_AUROC: 1.0000\n",
      "[test] Epoch 19 - Loss: 0.4847, test_AUROC: 1.0000\n"
     ]
    }
   ],
   "source": [
    "for epoch in range(EPOCHS):\n",
    "    train_loss, auroc = train(dataloader = train_loader, model = model, loss_fn = loss_BCE, optimizer = optimizer, device = DEVICE, epoch=epoch)\n",
    "    print(f\"Epoch {epoch+1}/{EPOCHS}, Loss: {train_loss:.4f}, AUROC: {auroc:.4f}\")\n",
    "    test(dataloader = val_loader, model = model, loss_fn = loss_BCE, device = DEVICE, epoch = epoch, val_or_test='val')\n",
    "    test(dataloader = test_loader, model = model, loss_fn = loss_BCE, device = DEVICE, epoch = epoch, val_or_test='test')\n",
    "    "
   ]
  },
  {
   "cell_type": "code",
   "execution_count": null,
   "id": "3aa6fe17",
   "metadata": {},
   "outputs": [],
   "source": []
  }
 ],
 "metadata": {
  "kernelspec": {
   "display_name": "fc-projeto-final",
   "language": "python",
   "name": "python3"
  },
  "language_info": {
   "codemirror_mode": {
    "name": "ipython",
    "version": 3
   },
   "file_extension": ".py",
   "mimetype": "text/x-python",
   "name": "python",
   "nbconvert_exporter": "python",
   "pygments_lexer": "ipython3",
   "version": "3.12.8"
  }
 },
 "nbformat": 4,
 "nbformat_minor": 5
}
