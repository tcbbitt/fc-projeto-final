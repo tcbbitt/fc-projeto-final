{
 "cells": [
  {
   "cell_type": "code",
   "execution_count": 1,
   "id": "8b0a5f47",
   "metadata": {},
   "outputs": [],
   "source": [
    "import autorootcwd\n",
    "import torch\n",
    "import torch.nn as nn\n",
    "import pandas as pd\n",
    "import numpy as np\n",
    "from torchvision import transforms\n",
    "from torch.utils.data import DataLoader\n",
    "from src.datasets.splits import get_ottawa2023_splits\n",
    "from src.datasets.ottawa2023 import Ottawa2023Dataset\n",
    "from src.datasets.dataset_wrapper import multiplydataset\n",
    "from src.datasets.transforms import ToTensor, Normalize, FFT, RandomGain\n",
    "from src.datasets.dataloaders import get_dataloaders\n",
    "from src.models.dcnn import Net\n",
    "from src.trainer.train import train\n",
    "from src.trainer.test import test\n",
    "import wandb\n"
   ]
  },
  {
   "cell_type": "code",
   "execution_count": 2,
   "id": "ed48a367",
   "metadata": {},
   "outputs": [],
   "source": [
    "# --- Configs ---\n",
    "SEED = 258\n",
    "BATCH_SIZE = 32\n",
    "EPOCHS = 20\n",
    "FAULT_TYPE = \"outer\"\n",
    "SAMPLE_LENGTH = 1.0 #in seconds\n",
    "REPEATS = 2\n",
    "LEARNING_RATE = 1e-1\n",
    "AUGMENTATION = 'time-RG'\n",
    "DEVICE = torch.device(\"cuda\" if torch.cuda.is_available() else \"cpu\")"
   ]
  },
  {
   "cell_type": "code",
   "execution_count": 3,
   "id": "c9fde3b7",
   "metadata": {},
   "outputs": [],
   "source": [
    "# DICT OF AUGMENTATIONS\n",
    "augmentation = { 'fft-RG': [FFT(), RandomGain(seed=SEED), ToTensor()],\n",
    "                    'fft': [FFT(), ToTensor()],\n",
    "                    'normalized-fft' : [Normalize(), FFT(), ToTensor()],\n",
    "                    'normalized-time': [Normalize(), ToTensor()],\n",
    "                    'time-RG': [RandomGain(seed=SEED), ToTensor()],\n",
    "                    'time': [ToTensor()] }          \n",
    "   \n"
   ]
  },
  {
   "cell_type": "code",
   "execution_count": 4,
   "id": "323b7cc8",
   "metadata": {},
   "outputs": [],
   "source": [
    "# --- Define transforms ---\n",
    "train_transform = transforms.Compose(augmentation[AUGMENTATION])\n",
    "\n",
    "val_test_transform = transforms.Compose(augmentation[AUGMENTATION])"
   ]
  },
  {
   "cell_type": "code",
   "execution_count": 5,
   "id": "20d3cd98",
   "metadata": {},
   "outputs": [
    {
     "name": "stderr",
     "output_type": "stream",
     "text": [
      "\u001b[34m\u001b[1mwandb\u001b[0m: Currently logged in as: \u001b[33mtth-bitt\u001b[0m (\u001b[33mtth-bitt-universidade-federal-de-santa-catarina\u001b[0m) to \u001b[32mhttps://api.wandb.ai\u001b[0m. Use \u001b[1m`wandb login --relogin`\u001b[0m to force relogin\n"
     ]
    },
    {
     "data": {
      "text/plain": [
       "True"
      ]
     },
     "execution_count": 5,
     "metadata": {},
     "output_type": "execute_result"
    }
   ],
   "source": [
    "wandb.login()"
   ]
  },
  {
   "cell_type": "code",
   "execution_count": 6,
   "id": "1de78468",
   "metadata": {},
   "outputs": [
    {
     "data": {
      "text/html": [
       "Tracking run with wandb version 0.20.1"
      ],
      "text/plain": [
       "<IPython.core.display.HTML object>"
      ]
     },
     "metadata": {},
     "output_type": "display_data"
    },
    {
     "data": {
      "text/html": [
       "Run data is saved locally in <code>/home/thiago-bittencourt/fc-projeto-final/wandb/run-20250623_105708-49uzkpy9</code>"
      ],
      "text/plain": [
       "<IPython.core.display.HTML object>"
      ]
     },
     "metadata": {},
     "output_type": "display_data"
    },
    {
     "data": {
      "text/html": [
       "Syncing run <strong><a href='https://wandb.ai/tth-bitt-universidade-federal-de-santa-catarina/ottawa2023-fault-detection/runs/49uzkpy9' target=\"_blank\">DCNN08_outer_time-RG_mby2_bs32_lr0.1_epochs20_seed258</a></strong> to <a href='https://wandb.ai/tth-bitt-universidade-federal-de-santa-catarina/ottawa2023-fault-detection' target=\"_blank\">Weights & Biases</a> (<a href='https://wandb.me/developer-guide' target=\"_blank\">docs</a>)<br>"
      ],
      "text/plain": [
       "<IPython.core.display.HTML object>"
      ]
     },
     "metadata": {},
     "output_type": "display_data"
    },
    {
     "data": {
      "text/html": [
       " View project at <a href='https://wandb.ai/tth-bitt-universidade-federal-de-santa-catarina/ottawa2023-fault-detection' target=\"_blank\">https://wandb.ai/tth-bitt-universidade-federal-de-santa-catarina/ottawa2023-fault-detection</a>"
      ],
      "text/plain": [
       "<IPython.core.display.HTML object>"
      ]
     },
     "metadata": {},
     "output_type": "display_data"
    },
    {
     "data": {
      "text/html": [
       " View run at <a href='https://wandb.ai/tth-bitt-universidade-federal-de-santa-catarina/ottawa2023-fault-detection/runs/49uzkpy9' target=\"_blank\">https://wandb.ai/tth-bitt-universidade-federal-de-santa-catarina/ottawa2023-fault-detection/runs/49uzkpy9</a>"
      ],
      "text/plain": [
       "<IPython.core.display.HTML object>"
      ]
     },
     "metadata": {},
     "output_type": "display_data"
    },
    {
     "data": {
      "text/html": [
       "<button onClick=\"this.nextSibling.style.display='block';this.style.display='none';\">Display W&B run</button><iframe src='https://wandb.ai/tth-bitt-universidade-federal-de-santa-catarina/ottawa2023-fault-detection/runs/49uzkpy9?jupyter=true' style='border:none;width:100%;height:420px;display:none;'></iframe>"
      ],
      "text/plain": [
       "<wandb.sdk.wandb_run.Run at 0x7d4bb15a04d0>"
      ]
     },
     "execution_count": 6,
     "metadata": {},
     "output_type": "execute_result"
    }
   ],
   "source": [
    "wandb.init(project=\"ottawa2023-fault-detection\", \n",
    "           name=f\"DCNN08_{FAULT_TYPE}_{AUGMENTATION}_mby{REPEATS}_bs{BATCH_SIZE}_lr{LEARNING_RATE}_epochs{EPOCHS}_seed{SEED}\",\n",
    "           config={\n",
    "    \"batch_size\": BATCH_SIZE,\n",
    "    \"epochs\": EPOCHS,\n",
    "    \"learning_rate\": LEARNING_RATE,\n",
    "    \"model\": \"DCNN08\",\n",
    "    \"fault_type\": FAULT_TYPE,\n",
    "    \"augmentation\": AUGMENTATION,\n",
    "    'seed': SEED,\n",
    "    'multiplyby': REPEATS,\n",
    "})"
   ]
  },
  {
   "cell_type": "code",
   "execution_count": 7,
   "id": "b2506e4d",
   "metadata": {},
   "outputs": [],
   "source": [
    "full_df = pd.read_pickle('/data/bearing_datasets/ottawa/processed/full_dataset.bz2')"
   ]
  },
  {
   "cell_type": "code",
   "execution_count": 8,
   "id": "408d6c6b",
   "metadata": {},
   "outputs": [],
   "source": [
    "#split\n",
    "train_df, val_df, test_df = get_ottawa2023_splits(full_df, random_state=SEED)"
   ]
  },
  {
   "cell_type": "code",
   "execution_count": 9,
   "id": "4a5850e1",
   "metadata": {},
   "outputs": [],
   "source": [
    "# --- Create datasets ---\n",
    "train_dataset = Ottawa2023Dataset(train_df, faulty_type=FAULT_TYPE, sample_length=SAMPLE_LENGTH, transform=train_transform, random_sample=True, seed=SEED)\n",
    "val_dataset   = Ottawa2023Dataset(val_df, faulty_type=FAULT_TYPE, sample_length=SAMPLE_LENGTH, transform=val_test_transform, random_sample=False, seed=SEED)\n",
    "test_dataset  = Ottawa2023Dataset(test_df, faulty_type=FAULT_TYPE, sample_length=SAMPLE_LENGTH, transform=val_test_transform, random_sample=False, seed=SEED)"
   ]
  },
  {
   "cell_type": "code",
   "execution_count": 10,
   "id": "5b31ecf9",
   "metadata": {},
   "outputs": [],
   "source": [
    "# --- Multiply training set ---\n",
    "train_dataset = multiplydataset(train_dataset, repeats=REPEATS)"
   ]
  },
  {
   "cell_type": "code",
   "execution_count": 11,
   "id": "ed682574",
   "metadata": {},
   "outputs": [],
   "source": [
    "# --- Create dataloaders ---\n",
    "train_loader, val_loader, test_loader = get_dataloaders(train_dataset, val_dataset, test_dataset, batch_size=BATCH_SIZE, num_workers=4)"
   ]
  },
  {
   "cell_type": "code",
   "execution_count": 12,
   "id": "605e041f",
   "metadata": {},
   "outputs": [
    {
     "name": "stdout",
     "output_type": "stream",
     "text": [
      "Using device: cuda\n"
     ]
    }
   ],
   "source": [
    "# --- check device ---\n",
    "print(f\"Using device: {DEVICE}\")"
   ]
  },
  {
   "cell_type": "code",
   "execution_count": 13,
   "id": "2a8a98f3",
   "metadata": {},
   "outputs": [],
   "source": [
    "# --- Model, Loss, Optimizer ---\n",
    "model = Net(\"DCNN08\", in_channels=1, n_class=1).to(DEVICE)\n",
    "loss_BCE = nn.BCEWithLogitsLoss()\n",
    "optimizer = torch.optim.Adam(model.parameters(), lr=LEARNING_RATE)"
   ]
  },
  {
   "cell_type": "code",
   "execution_count": 14,
   "id": "3872f147",
   "metadata": {},
   "outputs": [
    {
     "name": "stdout",
     "output_type": "stream",
     "text": [
      "Epoch 1/20, Loss: 0.3124, train_AUROC: 0.7369\n",
      "[val] Epoch 0 - Loss: 2.5229, val_AUROC: 0.5795\n",
      "[test] Epoch 0 - Loss: 0.9860, test_AUROC: 0.4506\n",
      "Epoch 2/20, Loss: 0.2716, train_AUROC: 0.7887\n",
      "[val] Epoch 1 - Loss: 0.8213, val_AUROC: 0.4390\n",
      "[test] Epoch 1 - Loss: 0.6064, test_AUROC: 0.4206\n",
      "Epoch 3/20, Loss: 0.2926, train_AUROC: 0.7579\n",
      "[val] Epoch 2 - Loss: 0.7601, val_AUROC: 0.3625\n",
      "[test] Epoch 2 - Loss: 0.6027, test_AUROC: 0.4941\n",
      "Epoch 4/20, Loss: 0.2883, train_AUROC: 0.7336\n",
      "[val] Epoch 3 - Loss: 0.7647, val_AUROC: 0.3205\n",
      "[test] Epoch 3 - Loss: 0.6252, test_AUROC: 0.3672\n",
      "Epoch 5/20, Loss: 0.2741, train_AUROC: 0.7422\n",
      "[val] Epoch 4 - Loss: 0.9676, val_AUROC: 0.3095\n",
      "[test] Epoch 4 - Loss: 0.6497, test_AUROC: 0.3575\n",
      "Epoch 6/20, Loss: 0.2790, train_AUROC: 0.7482\n",
      "[val] Epoch 5 - Loss: 1.0514, val_AUROC: 0.3005\n",
      "[test] Epoch 5 - Loss: 0.5940, test_AUROC: 0.4659\n",
      "Epoch 7/20, Loss: 0.2751, train_AUROC: 0.7640\n",
      "[val] Epoch 6 - Loss: 1.0843, val_AUROC: 0.3095\n",
      "[test] Epoch 6 - Loss: 0.6548, test_AUROC: 0.4816\n",
      "Epoch 8/20, Loss: 0.2573, train_AUROC: 0.7668\n",
      "[val] Epoch 7 - Loss: 1.1109, val_AUROC: 0.3355\n",
      "[test] Epoch 7 - Loss: 0.6216, test_AUROC: 0.3769\n",
      "Epoch 9/20, Loss: 0.2585, train_AUROC: 0.7738\n",
      "[val] Epoch 8 - Loss: 0.8879, val_AUROC: 0.3350\n",
      "[test] Epoch 8 - Loss: 0.6182, test_AUROC: 0.4877\n",
      "Epoch 10/20, Loss: 0.2609, train_AUROC: 0.7684\n",
      "[val] Epoch 9 - Loss: 1.2794, val_AUROC: 0.3025\n",
      "[test] Epoch 9 - Loss: 1.1503, test_AUROC: 0.6684\n",
      "Epoch 11/20, Loss: 0.2569, train_AUROC: 0.7694\n",
      "[val] Epoch 10 - Loss: 1.2301, val_AUROC: 0.3000\n",
      "[test] Epoch 10 - Loss: 0.6807, test_AUROC: 0.4894\n",
      "Epoch 12/20, Loss: 0.2587, train_AUROC: 0.7730\n",
      "[val] Epoch 11 - Loss: 1.1407, val_AUROC: 0.3365\n",
      "[test] Epoch 11 - Loss: 0.6294, test_AUROC: 0.4813\n",
      "Epoch 13/20, Loss: 0.2579, train_AUROC: 0.7740\n",
      "[val] Epoch 12 - Loss: 1.3450, val_AUROC: 0.3000\n",
      "[test] Epoch 12 - Loss: 0.6631, test_AUROC: 0.5348\n",
      "Epoch 14/20, Loss: 0.2682, train_AUROC: 0.7882\n",
      "[val] Epoch 13 - Loss: 1.1736, val_AUROC: 0.3030\n",
      "[test] Epoch 13 - Loss: 0.6609, test_AUROC: 0.6241\n",
      "Epoch 15/20, Loss: 0.2603, train_AUROC: 0.7806\n",
      "[val] Epoch 14 - Loss: 0.7266, val_AUROC: 0.3150\n",
      "[test] Epoch 14 - Loss: 0.6085, test_AUROC: 0.6319\n",
      "Epoch 16/20, Loss: 0.2576, train_AUROC: 0.8312\n",
      "[val] Epoch 15 - Loss: 0.8165, val_AUROC: 0.3885\n",
      "[test] Epoch 15 - Loss: 0.5212, test_AUROC: 0.7988\n",
      "Epoch 17/20, Loss: 0.2583, train_AUROC: 0.8369\n",
      "[val] Epoch 16 - Loss: 1.3976, val_AUROC: 0.3900\n",
      "[test] Epoch 16 - Loss: 0.4691, test_AUROC: 0.8378\n",
      "Epoch 18/20, Loss: 0.2332, train_AUROC: 0.8777\n",
      "[val] Epoch 17 - Loss: 2.9000, val_AUROC: 0.3275\n",
      "[test] Epoch 17 - Loss: 4.6417, test_AUROC: 0.5119\n",
      "Epoch 19/20, Loss: 0.2552, train_AUROC: 0.8044\n",
      "[val] Epoch 18 - Loss: 1.7361, val_AUROC: 0.3165\n",
      "[test] Epoch 18 - Loss: 2.7329, test_AUROC: 0.7266\n",
      "Epoch 20/20, Loss: 0.2481, train_AUROC: 0.8101\n",
      "[val] Epoch 19 - Loss: 1.7375, val_AUROC: 0.3000\n",
      "[test] Epoch 19 - Loss: 0.5267, test_AUROC: 0.8291\n"
     ]
    }
   ],
   "source": [
    "for epoch in range(EPOCHS):\n",
    "    train_loss, auroc = train(dataloader = train_loader, model = model, loss_fn = loss_BCE, optimizer = optimizer, device = DEVICE, epoch=epoch)\n",
    "    print(f\"Epoch {epoch+1}/{EPOCHS}, Loss: {train_loss:.4f}, train_AUROC: {auroc:.4f}\")\n",
    "    test(dataloader = val_loader, model = model, loss_fn = loss_BCE, device = DEVICE, epoch = epoch, val_or_test='val')\n",
    "    test(dataloader = test_loader, model = model, loss_fn = loss_BCE, device = DEVICE, epoch = epoch, val_or_test='test')\n",
    "    "
   ]
  },
  {
   "cell_type": "code",
   "execution_count": null,
   "id": "3aa6fe17",
   "metadata": {},
   "outputs": [],
   "source": []
  }
 ],
 "metadata": {
  "kernelspec": {
   "display_name": "fc-projeto-final",
   "language": "python",
   "name": "python3"
  },
  "language_info": {
   "codemirror_mode": {
    "name": "ipython",
    "version": 3
   },
   "file_extension": ".py",
   "mimetype": "text/x-python",
   "name": "python",
   "nbconvert_exporter": "python",
   "pygments_lexer": "ipython3",
   "version": "3.12.8"
  }
 },
 "nbformat": 4,
 "nbformat_minor": 5
}
